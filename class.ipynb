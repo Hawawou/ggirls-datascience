{
 "cells": [
  {
   "cell_type": "markdown",
   "metadata": {},
   "source": [
    "Instructions:\n",
    "- You are required to answer all questions on or before Friday 26th of April, 2024\n",
    "- Create a Google Collab file and do all your assignments on it. Make sure you comment your code\n",
    "properly and begin a new exercise in a new cell with adequate descriptions and comments.\n",
    "- After each exercise, add a new text cell below it and explain your procedure and reasoning behind\n",
    "your implementation.\n",
    "- When you are done with your assignment, submit the link of the google collab file on the\n",
    "FlexTrain Platform and then download it as an .ipynb extension and share it to my slack DM.\n",
    "NB: You are required to do further research to be able to implement some of these tasks.\n",
    "a) Object-Oriented Programming (OOP) Practice Questions:\n",
    "1) Create a class named Rectangle with attributes width and height. Implement methods to calculate\n",
    "the area and perimeter of the rectangle.\n",
    "2) Write a class named BankAccount that represents a bank account with attributes account_number,\n",
    "account_holder_name, and balance. Implement methods to deposit and withdraw money from the\n",
    "account while considering balance constraints.\n",
    "3) Create a class hierarchy for a game, with a base class Game and derived classes such as Chess,\n",
    "Monopoly, and Scrabble. Implement different methods and attributes specific to each game.\n",
    "4) Implement a class called Car with attributes make, model, and year. Add a class method that\n",
    "returns the total count of cars created.\n",
    "5) Design a class called Employee with attributes name, salary, and designation. Implement a\n",
    "method that calculates the annual bonus based on the employee's salary and designation.\n",
    "b)\n",
    "File Handling Practice Questions:\n",
    "1) Write a Python program that reads a text file and counts the occurrences of each word in the file.\n",
    "Display the word frequency as a dictionary.\n",
    "2) Write a Python function that accepts a directory path as input and recursively lists all file names\n",
    "in that directory and its subdirectories.\n",
    "3) Create a program that reads an image file, applies a grayscale filter to it, and saves the modified\n",
    "image as a new file."
   ]
  },
  {
   "cell_type": "markdown",
   "metadata": {},
   "source": [
    "### 5)"
   ]
  },
  {
   "cell_type": "code",
   "execution_count": 27,
   "metadata": {},
   "outputs": [
    {
     "name": "stdout",
     "output_type": "stream",
     "text": [
      "Your annual bonus is: 30000\n",
      "Your annual bonus is: 50000\n",
      "Your annual bonus is: 75000\n"
     ]
    }
   ],
   "source": [
    "class Employee:\n",
    "    def __init__(self, name, salary, designation):\n",
    "        self.name = name\n",
    "        self.salary = salary\n",
    "        self.designation = designation\n",
    "\n",
    "    def bonus(self):\n",
    "        bonus_percentage = 0\n",
    "        if self.designation == 'engineer':\n",
    "            bonus_percentage = 20\n",
    "        elif self.designation == 'manager':\n",
    "            bonus_percentage = 25\n",
    "        elif self.designation == 'director':\n",
    "            bonus_percentage = 30\n",
    "        return self.salary * (bonus_percentage)//100 \n",
    "    \n",
    "em1 = Employee(\"Diane\", 150000, 'engineer')\n",
    "print(f\"Your annual bonus is: {em1.bonus()}\")\n",
    "em2 = Employee(\"Reine\", 200000, 'manager')\n",
    "print(f\"Your annual bonus is: {em2.bonus()}\")\n",
    "em3 = Employee(\"Fadia\", 250000, 'director')\n",
    "print(f\"Your annual bonus is: {em3.bonus()}\")\n"
   ]
  },
  {
   "cell_type": "markdown",
   "metadata": {},
   "source": [
    "### 4)"
   ]
  },
  {
   "cell_type": "code",
   "execution_count": 30,
   "metadata": {},
   "outputs": [
    {
     "name": "stdout",
     "output_type": "stream",
     "text": [
      "Total cars created are: 3\n"
     ]
    }
   ],
   "source": [
    "class Car:\n",
    "    total = 0\n",
    "    def __init__(self, make, model, year):\n",
    "        self.make = make\n",
    "        self.model = model\n",
    "        self.year = year\n",
    "\n",
    "        Car.total += 1\n",
    "\n",
    "    @classmethod   \n",
    "    def count(cls):\n",
    "        return cls.total\n",
    "    \n",
    "car1 = Car('Tesla', 'S', 2023)\n",
    "car2 = Car('BMW', 'X', 2015)\n",
    "car3 = Car('Ford', 'Mustang', 2020)\n",
    "\n",
    "print(f\"Total cars created are: {Car.count()}\")"
   ]
  },
  {
   "cell_type": "markdown",
   "metadata": {},
   "source": [
    "### 3)"
   ]
  },
  {
   "cell_type": "code",
   "execution_count": 1,
   "metadata": {},
   "outputs": [],
   "source": [
    "class Game:\n",
    "    def __init__(self) -> None:\n",
    "        pass\n",
    "class Chess(Game):\n",
    "    def __init__(self) -> None:\n",
    "        super().__init__()\n",
    "\n",
    "class Monopoly(Game):\n",
    "    def __init__(self) -> None:\n",
    "        super().__init__()\n",
    "\n",
    "class Scrabble(Game):\n",
    "    def __init__(self) -> None:\n",
    "        super().__init__()\n"
   ]
  },
  {
   "cell_type": "markdown",
   "metadata": {},
   "source": [
    "### 1)"
   ]
  },
  {
   "cell_type": "code",
   "execution_count": 32,
   "metadata": {},
   "outputs": [
    {
     "name": "stdout",
     "output_type": "stream",
     "text": [
      "The area is: 12 cm^2\n",
      "The perimeter is 14 cm\n"
     ]
    }
   ],
   "source": [
    "class Rectangle:\n",
    "    def __init__(self, width, height):\n",
    "        self.width = width\n",
    "        self.height = height\n",
    "\n",
    "    def area(self):\n",
    "        return self.width * self.height\n",
    "    \n",
    "    def perimeter(self):\n",
    "        return 2 * (self.width + self.height)\n",
    "    \n",
    "ex = Rectangle(3, 4)\n",
    "print(f\"The area is: {ex.area()} cm^2\")\n",
    "print(f\"The perimeter is {ex.perimeter()} cm\")"
   ]
  },
  {
   "cell_type": "markdown",
   "metadata": {},
   "source": [
    "### 2)"
   ]
  },
  {
   "cell_type": "code",
   "execution_count": 3,
   "metadata": {},
   "outputs": [
    {
     "name": "stdout",
     "output_type": "stream",
     "text": [
      "2500\n",
      "1500\n",
      "Insufficient funds\n"
     ]
    }
   ],
   "source": [
    "class BankAccount:\n",
    "    def __init__(self, account_number, holder_name, balance):\n",
    "        self.account_number = account_number\n",
    "        self.holder_name = holder_name\n",
    "        self.balance = balance\n",
    "\n",
    "    def deposit(self, amount):\n",
    "        self.balance += amount\n",
    "        return self.balance\n",
    "\n",
    "    def withdraw(self, amount):\n",
    "        if amount > self.balance:\n",
    "            return(\"Insufficient funds\")\n",
    "        else:\n",
    "            self.balance -= amount\n",
    "            return self.balance\n",
    "        \n",
    "\n",
    "a = BankAccount(253655, \"John Doe\", 2000)\n",
    "print(a.deposit(500))\n",
    "print(a.withdraw(1000))\n",
    "print(a.withdraw(3000))\n"
   ]
  },
  {
   "cell_type": "markdown",
   "metadata": {},
   "source": [
    "### File handling"
   ]
  },
  {
   "cell_type": "code",
   "execution_count": null,
   "metadata": {},
   "outputs": [],
   "source": [
    "def count_word(file):\n",
    "    word_count = {}\n",
    "    with open(file, 'r') as f:\n",
    "        for line in f:\n",
    "            words = line.split()\n",
    "\n",
    "            for i in words:\n",
    "                if i in word_count:\n",
    "                    word_count[i] = word_count[i] + 1\n",
    "                else:\n",
    "                    word_count[i] = 1\n",
    "\n",
    "    return word_count\n",
    "\n",
    "print(count_word(\"text\"))\n",
    "\n",
    "        "
   ]
  },
  {
   "cell_type": "code",
   "execution_count": 35,
   "metadata": {},
   "outputs": [
    {
     "name": "stdout",
     "output_type": "stream",
     "text": [
      "function.ipynb\n",
      "lab2-reviewing-syntax.ipynb\n",
      "lab4-list-tuples-and-dicts_sol.ipynb\n",
      "lab7-more-oop_sol.ipynb\n",
      "lab3-strings_sol.ipynb\n",
      "lab6-oop-basics_sol.ipynb\n",
      "lab5-functions_sol.ipynb\n",
      "ebook-ramadan-1.pdf\n",
      "Quran 30for30 2024 -01.pdf\n",
      "Tafsir Ibn Kathir all 10 volumes.pdf\n",
      "200 Golden Hadiths.pdf\n",
      "ebook-ramadan-2.pdf\n"
     ]
    }
   ],
   "source": [
    "import os\n",
    "\n",
    "def list_files(directory):\n",
    "    file_list = []\n",
    "  \n",
    "    for root, dirs, files in os.walk(directory):\n",
    "       \n",
    "        for file in files:\n",
    "            # Join the root directory with the file name to get the full path\n",
    "            # file_path = os.path.join(file)\n",
    "            # # Add the file path to the list\n",
    "            file_list.append(file)\n",
    "    return file_list\n",
    "\n",
    "# Example usage:\n",
    "directory_path = 'sol'  # Replace this with your directory path\n",
    "files = list_files(directory_path)\n",
    "for file in files:\n",
    "    print(file)\n"
   ]
  },
  {
   "cell_type": "code",
   "execution_count": 23,
   "metadata": {},
   "outputs": [],
   "source": [
    "from PIL import Image\n",
    "def graysacle(image):\n",
    "    with Image.open(image) as img:\n",
    "        gray = img.convert('L')\n",
    "        gray.save('image_gray.jpeg')\n",
    "\n",
    "graysacle('image.jpeg')"
   ]
  },
  {
   "cell_type": "code",
   "execution_count": null,
   "metadata": {},
   "outputs": [],
   "source": []
  }
 ],
 "metadata": {
  "kernelspec": {
   "display_name": "venv",
   "language": "python",
   "name": "python3"
  },
  "language_info": {
   "codemirror_mode": {
    "name": "ipython",
    "version": 3
   },
   "file_extension": ".py",
   "mimetype": "text/x-python",
   "name": "python",
   "nbconvert_exporter": "python",
   "pygments_lexer": "ipython3",
   "version": "3.10.12"
  }
 },
 "nbformat": 4,
 "nbformat_minor": 2
}
